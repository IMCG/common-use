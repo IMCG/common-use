{
 "cells": [
  {
   "cell_type": "markdown",
   "metadata": {},
   "source": [
    "# 利用ELF文件分析Flash和Sram占用\n",
    "输入文件：  \n",
    "1.linker.cmd是链接依赖文件，决定不同section在FLASH还是SRAM中，或者兼而有之。  \n",
    "2.iot_ap.elf是对应的ELF文件，可以获取不同section大小，以及symbol属性。\n",
    "\n",
    "输出两种形式：  \n",
    "1.页内显示top_counts个最大symbol  \n",
    "2.将每个section的symbol输出到一个csv文件中  "
   ]
  },
  {
   "cell_type": "code",
   "execution_count": null,
   "metadata": {
    "collapsed": true
   },
   "outputs": [],
   "source": [
    "import os\n",
    "import re\n",
    "import pandas as pd\n",
    "import numpy as np"
   ]
  },
  {
   "cell_type": "markdown",
   "metadata": {},
   "source": [
    "## 1 预处理：分析linker.cmd，获取Section，获取Symbol"
   ]
  },
  {
   "cell_type": "markdown",
   "metadata": {},
   "source": [
    "通过分析linker.cmd，获取section是保存在FLASH， SRAM还是都保存。"
   ]
  },
  {
   "cell_type": "code",
   "execution_count": null,
   "metadata": {},
   "outputs": [],
   "source": [
    "linker_cmd = 'linker.cmd'\n",
    "elf_file = 'iot_ap.elf'\n",
    "\n",
    "elf_data = {'flash_capacity':274*1024, 'flash_size':0, 'sram_capacity':71*1024, 'sram_size':0}\n",
    "\n",
    "linker_lines = open(linker_cmd, 'r').readlines()\n",
    "linker_cmd_fmt = ' *(?P<section>.*).*:.*'\n",
    "#sections = {'name':[], 'flash':[], 'sram':[]}\n",
    "section_location_map = {}\n",
    "section_name = ''\n",
    "section_flash = 0\n",
    "section_sram = 0\n",
    "\n",
    "for line in linker_lines:\n",
    "\n",
    "    if '> FLASH' in line:\n",
    "        section_flash = 1\n",
    "    if '> SRAM' in line:\n",
    "        section_sram = 1\n",
    "    m = re.match(linker_cmd_fmt, line)\n",
    "    if not m:\n",
    "        continue\n",
    "\n",
    "    if section_name != 'null' and section_name != '':\n",
    "        section_location_map[section_name] = [section_flash, section_sram]\n",
    "\n",
    "    section_flash = 0\n",
    "    section_sram = 0\n",
    "    section_name = m.group('section')\n",
    "    section_name = section_name.split(' ')[0]\n",
    "\n",
    "#for i in section_location_map:\n",
    "#    print i, section_location_map[i]"
   ]
  },
  {
   "cell_type": "markdown",
   "metadata": {},
   "source": [
    "通过分析elf的Section Headers得知：section_location_map的section名称和elf_lists中section index的对应关系。"
   ]
  },
  {
   "cell_type": "code",
   "execution_count": null,
   "metadata": {},
   "outputs": [],
   "source": [
    "tmp = os.popen('readelf -S %s' % elf_file).readlines()\n",
    "section_fmt = ' *\\[(?P<index>.*)\\] (?P<message>.*)'\n",
    "flash_size_total = 0\n",
    "sram_size_total = 0\n",
    "section_data = {}\n",
    "for line in tmp:\n",
    "    m = re.match(section_fmt, line)\n",
    "    if not m:\n",
    "        continue\n",
    "    section_index = m.group('index').strip()\n",
    "    message = m.group('message')\n",
    "    section_line_list = re.split(r'\\s+', message)\n",
    "    \n",
    "#  [Nr] Name              Type            Addr     Off    Size   ES Flg Lk Inf Al\n",
    "#  [ 1] text              PROGBITS        0ffaf800 0000b8 024f64 00 WAX  0   0  4\n",
    "\n",
    "    if section_line_list[4] != 'Size':\n",
    "        section_line_list[4] = int(section_line_list[4], 16)\n",
    "\n",
    "        section_name = section_line_list[0]\n",
    "        section_addr = section_line_list[2]\n",
    "        section_size = section_line_list[4]\n",
    "\n",
    "        if section_location_map.has_key(section_name):\n",
    "            section_data[section_index] = {'size':section_size, \n",
    "                                              'addr':section_addr, \n",
    "                                              'name':section_name, \n",
    "                                              'flash':section_location_map[section_name][0],\n",
    "                                              'sram':section_location_map[section_name][1]}\n",
    "#for i in section_data:\n",
    "#    print section_data[i]\n"
   ]
  },
  {
   "cell_type": "markdown",
   "metadata": {},
   "source": [
    "通过分析elf文件，获取所有符号的相关信息：size, address, section, name。"
   ]
  },
  {
   "cell_type": "code",
   "execution_count": null,
   "metadata": {
    "scrolled": false
   },
   "outputs": [],
   "source": [
    "elf_summary = elf_file.split('.')[0]\n",
    "symbol_lists = []\n",
    "top_counts = 20\n",
    "data_sections = {}\n",
    "\n",
    "if not os.path.exists(elf_summary):\n",
    "    os.mkdir(elf_summary)\n",
    "\n",
    "#elf_summary_object = open(elf_summary, 'wb')\n",
    "\n",
    "tmp = os.popen('readelf -s %s' % elf_file).readlines()\n",
    "elf_symbol_fmt = ' *(?P<num>[0-9]*): (?P<value>[0-9abcdef]*) *(?P<size>[0-9]*).*'\n",
    "for line in tmp:\n",
    "    m = re.match(elf_symbol_fmt, line)\n",
    "    if not m:\n",
    "        continue\n",
    "    #num = m.group('num')\n",
    "    symbol_line_list = re.split(r'\\s+', line)\n",
    "\n",
    "    if symbol_line_list[3][0:2] == '0x':\n",
    "        symbol_line_list[3] = int(symbol_line_list[3][2:], 16)\n",
    "    #       size             address            section             name\n",
    "    symbol_name = symbol_line_list[8]\n",
    "    symbol_size = symbol_line_list[3]\n",
    "    symbol_section = symbol_line_list[7]\n",
    "    symbol_addr = symbol_line_list[2]\n",
    "    symbol_lists.append([symbol_size, symbol_addr, symbol_section, symbol_name])\n",
    "#elf_summary_object.writelines(tmp)\n",
    "#elf_summary_object.close()"
   ]
  },
  {
   "cell_type": "markdown",
   "metadata": {},
   "source": [
    "## 2 处理数据：按Section分类，对每Section数据降序排列\n",
    "1.获取每个Symbol的size， address， section， name。  \n",
    "2.计算每个section实际占用空间：Flash或者Sram。  "
   ]
  },
  {
   "cell_type": "code",
   "execution_count": null,
   "metadata": {
    "scrolled": false
   },
   "outputs": [],
   "source": [
    "elf_data['flash_size'] = 0\n",
    "elf_data['sram_size'] = 0\n",
    "\n",
    "symbol_data = pd.DataFrame(np.asarray(symbol_lists), columns=['size', 'address', 'section', 'name'])\n",
    "symbol_data['size'] = symbol_data['size'].astype(int)\n",
    "symbol_data.sort_values(by=['size'], ascending=False).to_csv('%s/%s.csv' % (elf_summary, 'top_all'))\n",
    "\n",
    "for section in section_data:\n",
    "    section_data[section]['symbol_data'] = symbol_data[symbol_data['section'] == section].sort_values(by=['size'], ascending=False)\n",
    "\n",
    "for section in section_data:\n",
    "    section_size = 0\n",
    "    #print section_data[section]['name'], section_data[section]['symbol_data']['size'].astype(int).sum(), section_data[section]['size']\n",
    "    section_data[section]['size'] = section_data[section]['symbol_data']['size'].astype(int).sum()\n",
    "\n",
    "for section in section_data:\n",
    "    if section_data[section]['flash']:\n",
    "        elf_data['flash_size'] += section_data[section]['size']\n",
    "    if section_data[section]['sram']:\n",
    "        elf_data['sram_size'] += section_data[section]['size']"
   ]
  },
  {
   "cell_type": "markdown",
   "metadata": {},
   "source": [
    "## 3 输出结果\n",
    "1.占用的总Flash或者Sram空间。  \n",
    "2.将每个Section的symbol按大小降序排列输出到csv文件。  "
   ]
  },
  {
   "cell_type": "code",
   "execution_count": null,
   "metadata": {
    "scrolled": true
   },
   "outputs": [],
   "source": [
    "print 'Total FLASH usage: %d / %d ' % (elf_data['flash_size'], elf_data['flash_capacity'])\n",
    "print 'Total SRAM usage: %d / %d' % (elf_data['sram_size'], elf_data['sram_capacity'])"
   ]
  },
  {
   "cell_type": "code",
   "execution_count": null,
   "metadata": {
    "scrolled": false
   },
   "outputs": [],
   "source": [
    "for section in section_data:\n",
    "    print '\\n', section_data[section]['name'], section_data[section]['size'], '(', 'FLASH,' if section_data[section]['flash'] else '', 'SRAM' if section_data[section]['sram'] else '', ')'\n",
    "    print section_data[section]['symbol_data'].head(top_counts)\n",
    "    section_data[section]['symbol_data'].to_csv('%s/%s.csv' % (elf_summary, section_data[section]['name']))"
   ]
  },
  {
   "cell_type": "code",
   "execution_count": null,
   "metadata": {
    "collapsed": true
   },
   "outputs": [],
   "source": []
  }
 ],
 "metadata": {
  "kernelspec": {
   "display_name": "Python 2",
   "language": "python",
   "name": "python2"
  },
  "language_info": {
   "codemirror_mode": {
    "name": "ipython",
    "version": 2
   },
   "file_extension": ".py",
   "mimetype": "text/x-python",
   "name": "python",
   "nbconvert_exporter": "python",
   "pygments_lexer": "ipython2",
   "version": "2.7.13"
  }
 },
 "nbformat": 4,
 "nbformat_minor": 2
}
